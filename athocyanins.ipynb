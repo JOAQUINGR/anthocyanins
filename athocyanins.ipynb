{
 "cells": [
  {
   "cell_type": "markdown",
   "metadata": {},
   "source": [
    "**First, lets check how is best represented the number of Mybs in the top 20 of result by sorting using pvals, foldEn and FDR**"
   ]
  },
  {
   "cell_type": "code",
   "execution_count": 13,
   "metadata": {},
   "outputs": [
    {
     "name": "stdout",
     "output_type": "stream",
     "text": [
      "Aquilegia coerulea_fimo_0.0001_3000.csv\n",
      "problem : bZIP    16\n",
      "AP2      4\n",
      "Name: tffamily, dtype: int64\n",
      "Arabidopsis lyrata_fimo_0.0001_3000.csv\n",
      "Myb/SANT\tFDR\t19\n",
      "Capsicum annuum_fimo_0.0001_3000.csv\n",
      "problem : bZIP       9\n",
      "AP2        8\n",
      "C2H2 ZF    2\n",
      "bHLH       1\n",
      "Name: tffamily, dtype: int64\n",
      "Chlamydomonas reinhardtii_fimo_0.0001_3000.csv\n",
      "problem : Series([], Name: tffamily, dtype: int64)\n",
      "Helianthus annuus_fimo_0.0001_3000.csv\n",
      "problem : AP2    20\n",
      "Name: tffamily, dtype: int64\n",
      "Hordeum vulgare r1_fimo_0.0001_3000.csv\n",
      "problem : AP2    20\n",
      "Name: tffamily, dtype: int64\n",
      "Marchantia polymorpha_fimo_0.0001_3000.csv\n",
      "problem : AP2    20\n",
      "Name: tffamily, dtype: int64\n",
      "Medicago truncatula_fimo_0.0001_3000.csv\n",
      "Myb/SANT\tFDR\t17\n",
      "Olea europaea_fimo_0.0001_3000.csv\n",
      "Myb/SANT\tFDR\t8\n",
      "Oryza sativa indica_fimo_0.0001_3000.csv\n",
      "Myb/SANT\tFDR\t13\n",
      "Oryza sativa japonica_fimo_0.0001_3000.csv\n",
      "Myb/SANT\tFDR\t6\n",
      "Phaseolus vulgaris_fimo_0.0001_3000.csv\n",
      "Myb/SANT\tFDR\t12\n",
      "Physcomitrella patens_fimo_0.0001_3000.csv\n",
      "problem : bZIP           17\n",
      "bHLH            1\n",
      "Homeodomain     1\n",
      "AP2             1\n",
      "Name: tffamily, dtype: int64\n",
      "Populus trichocarpa_fimo_0.0001_3000.csv\n",
      "Myb/SANT\tFDR\t10\n",
      "Prunus dulcis Texas_fimo_0.0001_3000.csv\n",
      "Myb/SANT\tFDR\t18\n",
      "Solanum lycopersicum_fimo_0.0001_3000.csv\n",
      "Myb/SANT\tFDR\t14\n",
      "Solanum tuberosum_fimo_0.0001_3000.csv\n",
      "Myb/SANT\tFDR\t8\n",
      "Sorghum bicolor_fimo_0.0001_3000.csv\n",
      "problem : AP2    20\n",
      "Name: tffamily, dtype: int64\n",
      "Vitis vinifera_fimo_0.0001_3000.csv\n",
      "Myb/SANT\tFDR\t16\n",
      "Volvox carteri_fimo_0.0001_3000.csv\n",
      "problem : Series([], Name: tffamily, dtype: int64)\n",
      "Zea mays B73_fimo_0.0001_3000.csv\n",
      "Myb/SANT\tFDR\t20\n"
     ]
    }
   ],
   "source": [
    "\n",
    "import pandas as pd\n",
    "from os import walk\n",
    "\n",
    "\n",
    "def createTopFileBasedOnCondition(df,condition, ascending):\n",
    "    \n",
    "    with open('diferentspeciesMycProportion.tsv', 'a+') as mycsfrecuency:\n",
    "        OutputSortHead =  df.sort_values(by=[condition], ascending=ascending).head(20)\n",
    "        valuecounts = OutputSortHead['tffamily'].value_counts()\n",
    "        try:\n",
    "            mycsfrecuency.write('Myb/SANT\\t{}\\t{}\\n'.format(condition,valuecounts['Myb/SANT']))\n",
    "            print('Myb/SANT\\t{}\\t{}'.format(condition,valuecounts['Myb/SANT']))\n",
    "        except:\n",
    "            print('problem :', valuecounts)\n",
    "        \n",
    "def generateParametersAndConditions():\n",
    "    \n",
    "    parametersandspecies = []\n",
    "    for (dirpath, dirnames, filenames) in walk('../'):\n",
    "        parametersandspecies.extend(filenames)\n",
    "        break\n",
    "    return parametersandspecies\n",
    "\n",
    "parametersandspecies = generateParametersAndConditions()\n",
    "posibleconditions = [\"pvalues\",\"FoldEn\",\"FDR\"]\n",
    "for file in list(parametersandspecies):\n",
    "    with open('diferentspeciesMycProportion.tsv', 'a+') as mycsfrecuency:\n",
    "        print('{}'.format(file))\n",
    "        mycsfrecuency.write('{}\\n'.format(file))\n",
    "    with open('../' + file, 'r') as TDThubOutput:\n",
    "        Outputdf = pd.read_csv(TDThubOutput)\n",
    "        Outputdf = Outputdf[[\"tffamily\", \"tf\",\"pvalues\",\"FoldEn\", \"FDR\"]]\n",
    "        for condition in posibleconditions:\n",
    "            ascending = True\n",
    "            if \"Fold\" in condition:\n",
    "                ascending = False\n",
    "            createTopFileBasedOnCondition(Outputdf,condition,ascending)"
   ]
  },
  {
   "cell_type": "code",
   "execution_count": null,
   "metadata": {},
   "outputs": [],
   "source": []
  },
  {
   "cell_type": "code",
   "execution_count": null,
   "metadata": {},
   "outputs": [],
   "source": []
  },
  {
   "cell_type": "code",
   "execution_count": null,
   "metadata": {},
   "outputs": [],
   "source": []
  },
  {
   "cell_type": "code",
   "execution_count": null,
   "metadata": {},
   "outputs": [],
   "source": []
  }
 ],
 "metadata": {
  "kernelspec": {
   "display_name": "Python 3",
   "language": "python",
   "name": "python3"
  },
  "language_info": {
   "codemirror_mode": {
    "name": "ipython",
    "version": 3
   },
   "file_extension": ".py",
   "mimetype": "text/x-python",
   "name": "python",
   "nbconvert_exporter": "python",
   "pygments_lexer": "ipython3",
   "version": "3.7.6"
  }
 },
 "nbformat": 4,
 "nbformat_minor": 4
}
